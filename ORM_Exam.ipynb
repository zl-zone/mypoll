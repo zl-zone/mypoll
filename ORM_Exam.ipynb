{
 "cells": [
  {
   "cell_type": "code",
   "execution_count": 1,
   "metadata": {},
   "outputs": [],
   "source": [
    "# JupyterLab에서 django shell을 실행시키기 위한 설정\n",
    "import os\n",
    "import django\n",
    "\n",
    "os.environ[\"DJANGO_SETTINGS_MODULE\"] = \"config.settings\" # config/settings.py 모듈 지정\n",
    "os.environ[\"DJANGO_ALLOW_ASYNC_UNSAFE\"] = \"true\"\n",
    "\n",
    "django.setup()"
   ]
  },
  {
   "cell_type": "code",
   "execution_count": 2,
   "metadata": {},
   "outputs": [
    {
     "name": "stdout",
     "output_type": "stream",
     "text": [
      "1. 빨강색\n"
     ]
    }
   ],
   "source": [
    "from polls.models import Question, Choice\n",
    "\n",
    "c = Choice.objects.get(pk=1)\n",
    "print(c)"
   ]
  },
  {
   "cell_type": "code",
   "execution_count": 4,
   "metadata": {},
   "outputs": [
    {
     "name": "stdout",
     "output_type": "stream",
     "text": [
      "<class 'django.db.models.manager.Manager'> <class 'django.db.models.manager.Manager'>\n"
     ]
    }
   ],
   "source": [
    "# Model Manager -> Model클래스.objects => SQL을 실행하는 메소드들 제공.(DB작업 관리자자)\n",
    "print(type(Choice.objects), type(Question.objects))"
   ]
  },
  {
   "cell_type": "code",
   "execution_count": 5,
   "metadata": {},
   "outputs": [
    {
     "name": "stdout",
     "output_type": "stream",
     "text": [
      "<class 'django.db.models.query.QuerySet'>\n"
     ]
    }
   ],
   "source": [
    "# QuerySet 조회결과들을 담아주는 객체.\n",
    "result = Choice.objects.all() # select * from tb(choice);\n",
    "print(type(result))"
   ]
  },
  {
   "cell_type": "code",
   "execution_count": 7,
   "metadata": {},
   "outputs": [
    {
     "name": "stdout",
     "output_type": "stream",
     "text": [
      "1. 빨강색\n",
      "2. 파랑색\n",
      "3. 빨강색\n",
      "4. 검정색\n",
      "5. 초록색\n",
      "6. 검정색\n",
      "7. 초록색\n",
      "8. 호랑이\n",
      "9. 사자\n",
      "10. 개\n",
      "11. 고양이\n",
      "12. 뱀\n",
      "13. 도마뱀\n",
      "14. 하이에나\n",
      "15. 파이썬\n",
      "16. 자바\n",
      "17. Javascript\n",
      "18. C\n",
      "19. 코끼리\n"
     ]
    }
   ],
   "source": [
    "# QuerySet: iterable\n",
    "for r in result:\n",
    "    print(r)"
   ]
  },
  {
   "cell_type": "code",
   "execution_count": 10,
   "metadata": {},
   "outputs": [
    {
     "data": {
      "text/plain": [
       "(<Choice: 2. 파랑색>, 19)"
      ]
     },
     "execution_count": 10,
     "metadata": {},
     "output_type": "execute_result"
    }
   ],
   "source": [
    "# QuerySet: subscriptable \n",
    "result[1], len(result)"
   ]
  },
  {
   "cell_type": "markdown",
   "metadata": {},
   "source": [
    "# 조회\n",
    "- `Model.objects.all()` : 전체조회\n",
    "- `Model.objects.filter(), exclude(), get()`\n",
    "    - where절이 있는 조회"
   ]
  },
  {
   "cell_type": "code",
   "execution_count": 13,
   "metadata": {},
   "outputs": [
    {
     "name": "stdout",
     "output_type": "stream",
     "text": [
      "조회결과 개수: 5\n",
      "실행된 SQL문조회 - QuerySet.query\n",
      "SELECT \"polls_question\".\"id\", \"polls_question\".\"question_text\", \"polls_question\".\"pub_date\" FROM \"polls_question\"\n"
     ]
    }
   ],
   "source": [
    "result_list = Question.objects.all()\n",
    "print(\"조회결과 개수:\", len(result_list))\n",
    "print(\"실행된 SQL문조회 - QuerySet.query\")\n",
    "print(result_list.query)"
   ]
  },
  {
   "cell_type": "code",
   "execution_count": 17,
   "metadata": {},
   "outputs": [
    {
     "name": "stdout",
     "output_type": "stream",
     "text": [
      "1 1,  좋아하는 색은 무엇입니까? 2025-01-03 08:46:43.327472+00:00\n",
      "2 2,  싫어하는 색은 무엇입니까? 2025-01-03 08:47:28.701171+00:00\n",
      "3 3,  좋아하는 동물은 무엇인가요? 2025-01-06 00:46:18.116403+00:00\n",
      "4 4,  싫어하는 동물은 무엇인가요? 2025-01-06 00:46:31.072882+00:00\n",
      "5 5,  공부하고 싶은 프로그래밍 언어는 무엇입니까? 2025-01-06 00:46:55.941613+00:00\n"
     ]
    }
   ],
   "source": [
    "for result in result_list:\n",
    "    #print(result)  #model.__str__() \n",
    "    # 개별 Field 조회(instance 변수)\n",
    "    print(result.id, result.pk, end=\",  \")  # id-primarykey field이름, pk: primary key\n",
    "    print(result.question_text, result.pub_date)"
   ]
  },
  {
   "cell_type": "code",
   "execution_count": 24,
   "metadata": {},
   "outputs": [
    {
     "name": "stdout",
     "output_type": "stream",
     "text": [
      "4 싫어하는 동물은 무엇인가요? 2025-01-06 00:46:31\n"
     ]
    }
   ],
   "source": [
    "#  조회결과에서 개별 데이터 조회 - indexing\n",
    "r = result_list[3]\n",
    "print(r.pk, r.question_text, r.pub_date.strftime('%Y-%m-%d %H:%M:%S'))"
   ]
  },
  {
   "cell_type": "code",
   "execution_count": 26,
   "metadata": {},
   "outputs": [],
   "source": [
    "# QuerySet은 음수 index는 지원하지 않는다.\n",
    "# result_list[-1]"
   ]
  },
  {
   "cell_type": "code",
   "execution_count": 34,
   "metadata": {},
   "outputs": [
    {
     "data": {
      "text/plain": [
       "<Question: 5. 공부하고 싶은 프로그래밍 언어는 무엇입니까?>"
      ]
     },
     "execution_count": 34,
     "metadata": {},
     "output_type": "execute_result"
    }
   ],
   "source": [
    "# QuerySet.first() : 첫번째 조회값 . result_list[0]\n",
    "# QuerySet.last()  :  마지막 조회값. result_list[-1]\n",
    "result_list.first()\n",
    "result_list.last()"
   ]
  },
  {
   "cell_type": "code",
   "execution_count": 27,
   "metadata": {},
   "outputs": [
    {
     "data": {
      "text/plain": [
       "[<Question: 1. 좋아하는 색은 무엇입니까?>,\n",
       " <Question: 2. 싫어하는 색은 무엇입니까?>,\n",
       " <Question: 3. 좋아하는 동물은 무엇인가요?>]"
      ]
     },
     "execution_count": 27,
     "metadata": {},
     "output_type": "execute_result"
    }
   ],
   "source": [
    "result_list[:3]  # slicing -반환타입-> list"
   ]
  },
  {
   "cell_type": "code",
   "execution_count": 28,
   "metadata": {},
   "outputs": [
    {
     "data": {
      "text/plain": [
       "list"
      ]
     },
     "execution_count": 28,
     "metadata": {},
     "output_type": "execute_result"
    }
   ],
   "source": [
    "type(result_list[:3])"
   ]
  },
  {
   "cell_type": "code",
   "execution_count": 38,
   "metadata": {},
   "outputs": [
    {
     "name": "stdout",
     "output_type": "stream",
     "text": [
      "5 공부하고 싶은 프로그래밍 언어는 무엇입니까? 2025-01-06 00:46:55.941613+00:00\n",
      "4 싫어하는 동물은 무엇인가요? 2025-01-06 00:46:31.072882+00:00\n",
      "2 싫어하는 색은 무엇입니까? 2025-01-03 08:47:28.701171+00:00\n",
      "3 좋아하는 동물은 무엇인가요? 2025-01-06 00:46:18.116403+00:00\n",
      "1 좋아하는 색은 무엇입니까? 2025-01-03 08:46:43.327472+00:00\n"
     ]
    }
   ],
   "source": [
    "## 정렬 - sql: orderby 절\n",
    "# queryset.order_by(\"field명\") : asc, .order_by(\"-field명\") : desc\n",
    "## 기준 컬럼이 여러개일 경우 나열한다. \n",
    "\n",
    "# result_list = Question.objects.all()\n",
    "# result_list = Question.objects.all().order_by(\"-pk\") # id desc\n",
    "result_list = Question.objects.all().order_by(\"question_text\") # question_text asc\n",
    "for result in result_list:\n",
    "    print(result.pk, result.question_text, result.pub_date)"
   ]
  },
  {
   "cell_type": "code",
   "execution_count": 42,
   "metadata": {},
   "outputs": [
    {
     "name": "stdout",
     "output_type": "stream",
     "text": [
      "15 파이썬 200\n",
      "8 호랑이 100\n",
      "17 Javascript 51\n",
      "10 개 50\n",
      "16 자바 50\n",
      "12 뱀 35\n",
      "6 검정색 30\n",
      "4 검정색 20\n",
      "11 고양이 20\n",
      "9 사자 20\n",
      "14 하이에나 17\n",
      "18 C 14\n",
      "19 코끼리 11\n",
      "7 초록색 10\n",
      "13 도마뱀 5\n",
      "5 초록색 3\n",
      "1 빨강색 0\n",
      "3 빨강색 0\n",
      "2 파랑색 0\n"
     ]
    }
   ],
   "source": [
    "result_list = Choice.objects.all().order_by(\"-votes\", \"choice_text\")\n",
    "# SQL: orderby  votes desc, choice_text asc\n",
    "for result in result_list:\n",
    "    print(result.pk, result.choice_text, result.votes)"
   ]
  },
  {
   "cell_type": "code",
   "execution_count": 43,
   "metadata": {},
   "outputs": [
    {
     "name": "stdout",
     "output_type": "stream",
     "text": [
      "SELECT \"polls_choice\".\"id\", \"polls_choice\".\"choice_text\", \"polls_choice\".\"votes\", \"polls_choice\".\"question_id\" FROM \"polls_choice\" ORDER BY \"polls_choice\".\"votes\" DESC, \"polls_choice\".\"choice_text\" ASC\n"
     ]
    }
   ],
   "source": [
    "print(result_list.query)"
   ]
  },
  {
   "cell_type": "markdown",
   "metadata": {},
   "source": [
    "## Where (조건)으로 조회\n",
    "- `filter()`: 조회조건이 True행들을 조회 => QuerySet return\n",
    "- `exclude()`: 조회조건이 False행들을 조회 => QuerySet return\n",
    "- `get()` : 조회결과가 1개일 때만 사용(pk=값). 조회결과가 없거나 2개 이상이면 Exception발생. => Model return\n",
    "- 조회조건 형식: `filed이름__연산자 = 값`"
   ]
  },
  {
   "cell_type": "code",
   "execution_count": 47,
   "metadata": {},
   "outputs": [
    {
     "name": "stdout",
     "output_type": "stream",
     "text": [
      "<class 'django.db.models.query.QuerySet'>\n"
     ]
    },
    {
     "data": {
      "text/plain": [
       "<QuerySet [<Question: 2. 싫어하는 색은 무엇입니까?>, <Question: 3. 좋아하는 동물은 무엇인가요?>, <Question: 4. 싫어하는 동물은 무엇인가요?>, <Question: 5. 공부하고 싶은 프로그래밍 언어는 무엇입니까?>]>"
      ]
     },
     "execution_count": 47,
     "metadata": {},
     "output_type": "execute_result"
    }
   ],
   "source": [
    "result = Question.objects.filter(pk=1)   # where pk = 1\n",
    "result = Question.objects.get(pk=1)      # where pk = 1\n",
    "result = Question.objects.exclude(pk=1)  # where not (pk = 1)\n",
    "print(type(result))\n",
    "result"
   ]
  },
  {
   "cell_type": "code",
   "execution_count": 57,
   "metadata": {},
   "outputs": [
    {
     "name": "stdout",
     "output_type": "stream",
     "text": [
      "1. 빨강색\n",
      "3. 빨강색\n"
     ]
    }
   ],
   "source": [
    "### 비교 연산\n",
    "result = Choice.objects.filter(pk__lt = 5) # where pk < 5\n",
    "result = Choice.objects.filter(pk__lte = 5) # where pk <= 5\n",
    "result = Choice.objects.filter(pk__gt = 15) # where pk > 15\n",
    "result = Choice.objects.filter(pk__gte = 15) # where pk >= 15\n",
    "result = Choice.objects.filter(choice_text = \"빨강색\")\n",
    "for r in result:\n",
    "    print(r)"
   ]
  },
  {
   "cell_type": "code",
   "execution_count": 58,
   "metadata": {},
   "outputs": [
    {
     "name": "stdout",
     "output_type": "stream",
     "text": [
      "SELECT \"polls_choice\".\"id\", \"polls_choice\".\"choice_text\", \"polls_choice\".\"votes\", \"polls_choice\".\"question_id\" FROM \"polls_choice\" WHERE \"polls_choice\".\"choice_text\" = 빨강색\n"
     ]
    }
   ],
   "source": [
    "print(result.query)"
   ]
  },
  {
   "cell_type": "code",
   "execution_count": 67,
   "metadata": {},
   "outputs": [
    {
     "name": "stdout",
     "output_type": "stream",
     "text": [
      "SELECT \"polls_question\".\"id\", \"polls_question\".\"question_text\", \"polls_question\".\"pub_date\" FROM \"polls_question\" WHERE NOT (\"polls_question\".\"question_text\" LIKE %무엇입니까? ESCAPE '\\')\n",
      "3. 좋아하는 동물은 무엇인가요?\n",
      "4. 싫어하는 동물은 무엇인가요?\n"
     ]
    }
   ],
   "source": [
    "# 문자열 컬럼 부분일치 (like)\n",
    "result = Question.objects.filter(question_text__contains = \"색은\")\n",
    "# where question_text like '%색은%'\n",
    "\n",
    "result = Question.objects.filter(question_text__startswith = \"좋아하는\")\n",
    "# where question_text like '좋아하는%'\n",
    "\n",
    "result = Question.objects.filter(question_text__endswith = \"무엇입니까?\")\n",
    "# where question_text like '%무엇입니까?'\n",
    "\n",
    "result = Question.objects.exclude(question_text__endswith = \"무엇입니까?\")\n",
    "\n",
    "print(result.query)\n",
    "for r in result:\n",
    "    print(r)"
   ]
  },
  {
   "cell_type": "code",
   "execution_count": 66,
   "metadata": {},
   "outputs": [
    {
     "data": {
      "text/plain": [
       "<QuerySet [<Question: 2. 싫어하는 색은 무엇입니까?>, <Question: 5. 공부하고 싶은 프로그래밍 언어는 무엇입니까?>]>"
      ]
     },
     "execution_count": 66,
     "metadata": {},
     "output_type": "execute_result"
    }
   ],
   "source": [
    "## where 컬럼 in [v1, v2, v3, ..]\n",
    "Question.objects.filter(pk__in = [1, 3, 4])\n",
    "Question.objects.exclude(pk__in = [1, 3, 4])  # not"
   ]
  },
  {
   "cell_type": "code",
   "execution_count": 68,
   "metadata": {},
   "outputs": [
    {
     "data": {
      "text/plain": [
       "<QuerySet [<Choice: 2. 파랑색>, <Choice: 3. 빨강색>, <Choice: 4. 검정색>, <Choice: 5. 초록색>, <Choice: 6. 검정색>]>"
      ]
     },
     "execution_count": 68,
     "metadata": {},
     "output_type": "execute_result"
    }
   ],
   "source": [
    "## where 컬럼 between A and B \n",
    "Choice.objects.filter(pk__range = [2, 6]) # pk between 2 and 6"
   ]
  },
  {
   "cell_type": "markdown",
   "metadata": {},
   "source": [
    "#### where 절의 and, or\n",
    "- `AND`: 조건을 나열한다.\n",
    "- `OR` : 각 조건을 Q()함수에 넣고 `|` 로 연결한다."
   ]
  },
  {
   "cell_type": "code",
   "execution_count": 70,
   "metadata": {},
   "outputs": [
    {
     "name": "stdout",
     "output_type": "stream",
     "text": [
      "SELECT \"polls_question\".\"id\", \"polls_question\".\"question_text\", \"polls_question\".\"pub_date\" FROM \"polls_question\" WHERE (\"polls_question\".\"id\" < 3 AND \"polls_question\".\"question_text\" LIKE %무엇입니까? ESCAPE '\\')\n",
      "1. 좋아하는 색은 무엇입니까?\n",
      "2. 싫어하는 색은 무엇입니까?\n"
     ]
    }
   ],
   "source": [
    "result = Question.objects.filter(\n",
    "    question_text__endswith = \"무엇입니까?\",\n",
    "    pk__lt = 3\n",
    ")\n",
    "\n",
    "print(result.query)\n",
    "for r in result:\n",
    "    print(r)"
   ]
  },
  {
   "cell_type": "code",
   "execution_count": 73,
   "metadata": {},
   "outputs": [
    {
     "name": "stdout",
     "output_type": "stream",
     "text": [
      "SELECT \"polls_question\".\"id\", \"polls_question\".\"question_text\", \"polls_question\".\"pub_date\" FROM \"polls_question\" WHERE (NOT (\"polls_question\".\"question_text\" LIKE %무엇입니까? ESCAPE '\\') OR \"polls_question\".\"id\" >= 3)\n",
      "3. 좋아하는 동물은 무엇인가요?\n",
      "4. 싫어하는 동물은 무엇인가요?\n",
      "5. 공부하고 싶은 프로그래밍 언어는 무엇입니까?\n"
     ]
    }
   ],
   "source": [
    "# or\n",
    "from django.db.models import Q\n",
    "\n",
    "# OR : 조건을 Q에 넣고 `|` 연결\n",
    "result = Question.objects.filter(\n",
    "    Q(question_text__endswith = \"무엇입니까?\") | Q(pk__gte = 3)\n",
    ")\n",
    "\n",
    "# ~Q(조건) : not 조건\n",
    "##  AND 나 OR 로 조회조건을 합칠때 개별 조건에 NOT을 붙이려면 Q()를 이용.\n",
    "result = Question.objects.filter(\n",
    "    ~Q(question_text__endswith = \"무엇입니까?\") | Q(pk__gte = 3)\n",
    ")\n",
    "\n",
    "print(result.query)\n",
    "for r in result:\n",
    "    print(r)\n"
   ]
  },
  {
   "cell_type": "markdown",
   "metadata": {},
   "source": [
    "### 조회 컬럼을 지정\n",
    "- `values(컬럼명, ..)`\n",
    "    - 개별(행) 조회 결과를 dictionary로 반환."
   ]
  },
  {
   "cell_type": "code",
   "execution_count": 82,
   "metadata": {},
   "outputs": [
    {
     "data": {
      "text/plain": [
       "<QuerySet [{'pk': 1, 'question_text': '좋아하는 색은 무엇입니까?'}, {'pk': 2, 'question_text': '싫어하는 색은 무엇입니까?'}]>"
      ]
     },
     "execution_count": 82,
     "metadata": {},
     "output_type": "execute_result"
    }
   ],
   "source": [
    "result = Question.objects.all().values('pk', 'question_text')\n",
    "result = Question.objects.filter(pk__lt = 3).values('pk', 'question_text')\n",
    "\n",
    "result"
   ]
  },
  {
   "cell_type": "code",
   "execution_count": 83,
   "metadata": {},
   "outputs": [
    {
     "name": "stdout",
     "output_type": "stream",
     "text": [
      "SELECT \"polls_question\".\"id\", \"polls_question\".\"question_text\" FROM \"polls_question\" WHERE \"polls_question\".\"id\" < 3\n"
     ]
    }
   ],
   "source": [
    "print(result.query)"
   ]
  },
  {
   "cell_type": "code",
   "execution_count": 88,
   "metadata": {},
   "outputs": [
    {
     "name": "stdout",
     "output_type": "stream",
     "text": [
      "조회결과가 없습니다.\n"
     ]
    }
   ],
   "source": [
    "try:\n",
    "    a = Question.objects.get(pk=20)\n",
    "    print(a)\n",
    "except:\n",
    "    print('조회결과가 없습니다.')"
   ]
  },
  {
   "cell_type": "markdown",
   "metadata": {},
   "source": [
    "### 집계함수\n",
    "- aggregate(집계함수(컬럼명), ..) : 전체 행 기준 집계\n",
    "- values('기준컬럼').annotate(집계함수(컬럼명), ..) : group by 후 집계"
   ]
  },
  {
   "cell_type": "code",
   "execution_count": 89,
   "metadata": {},
   "outputs": [],
   "source": [
    "from django.db.models import(\n",
    "    Count,   # 값의 개수\n",
    "    Sum,     # 합계\n",
    "    Avg,     # 평균\n",
    "    Min,     # 최소\n",
    "    Max,     # 최대\n",
    "    StdDev,  # 표준편차\n",
    "    Variance # 분산\n",
    ")"
   ]
  },
  {
   "cell_type": "code",
   "execution_count": 94,
   "metadata": {},
   "outputs": [
    {
     "name": "stdout",
     "output_type": "stream",
     "text": [
      "<class 'dict'>\n"
     ]
    },
    {
     "data": {
      "text/plain": [
       "{'cnt': 5}"
      ]
     },
     "execution_count": 94,
     "metadata": {},
     "output_type": "execute_result"
    }
   ],
   "source": [
    "result = Question.objects.aggregate(\n",
    "    # Count(\"id\")    # select count(id) from  ..\n",
    "    cnt=Count(\"id\"), # 변수명을 key값을 사용.\n",
    ")\n",
    "print(type(result)) # dict. 기본 key 패턴: field명__집계함수이름\n",
    "result#['id__count']"
   ]
  },
  {
   "cell_type": "code",
   "execution_count": 98,
   "metadata": {},
   "outputs": [
    {
     "name": "stdout",
     "output_type": "stream",
     "text": [
      "<class 'dict'>\n"
     ]
    },
    {
     "data": {
      "text/plain": [
       "{'id_cnt': 19, 'vote_min': 0, 'vote_max': 200}"
      ]
     },
     "execution_count": 98,
     "metadata": {},
     "output_type": "execute_result"
    }
   ],
   "source": [
    "# 한번에 여러 집계.\n",
    "result = Choice.objects.aggregate(\n",
    "    id_cnt=Count('id'), \n",
    "    vote_min=Min('votes'),\n",
    "    vote_max=Max(\"votes\")\n",
    ")\n",
    "print(type(result))\n",
    "result"
   ]
  },
  {
   "cell_type": "code",
   "execution_count": 103,
   "metadata": {},
   "outputs": [
    {
     "data": {
      "text/plain": [
       "{'min_max_gap': 200}"
      ]
     },
     "execution_count": 103,
     "metadata": {},
     "output_type": "execute_result"
    }
   ],
   "source": [
    "# 집계 함수를 이용한 연산. 변수명(key) = 연산식\n",
    "## select max(votes) - min(votes) as min_max_gap from ...\n",
    "Choice.objects.aggregate(min_max_gap = (Max(\"votes\") - Min(\"votes\")))"
   ]
  },
  {
   "cell_type": "code",
   "execution_count": 104,
   "metadata": {},
   "outputs": [
    {
     "data": {
      "text/plain": [
       "{'votes__count': 19,\n",
       " 'votes__sum': 636,\n",
       " 'votes__avg': 33.473684210526315,\n",
       " 'votes__min': 0,\n",
       " 'votes__max': 200,\n",
       " 'votes__stddev': 46.0987137862043,\n",
       " 'votes__variance': 2125.091412742382}"
      ]
     },
     "execution_count": 104,
     "metadata": {},
     "output_type": "execute_result"
    }
   ],
   "source": [
    "Choice.objects.aggregate(\n",
    "    Count('votes'), Sum('votes'), Avg('votes'), Min('votes'), Max('votes'),\n",
    "    StdDev('votes'), Variance('votes')\n",
    ")"
   ]
  },
  {
   "cell_type": "code",
   "execution_count": 105,
   "metadata": {},
   "outputs": [
    {
     "data": {
      "text/plain": [
       "<QuerySet [{'question': 1, 'votes__sum': 23}, {'question': 2, 'votes__sum': 40}, {'question': 3, 'votes__sum': 201}, {'question': 4, 'votes__sum': 57}, {'question': 5, 'votes__sum': 315}]>"
      ]
     },
     "execution_count": 105,
     "metadata": {},
     "output_type": "execute_result"
    }
   ],
   "source": [
    "# select sum(votes)->annotate() from choice group by question (values())\n",
    "\n",
    "result = Choice.objects.values('question').annotate(Sum('votes'))\n",
    "result"
   ]
  },
  {
   "cell_type": "code",
   "execution_count": 106,
   "metadata": {},
   "outputs": [
    {
     "data": {
      "text/plain": [
       "<QuerySet [{'question': 1, 'votes__min': 0, 'votes__max': 20}, {'question': 2, 'votes__min': 0, 'votes__max': 30}, {'question': 3, 'votes__min': 11, 'votes__max': 100}, {'question': 4, 'votes__min': 5, 'votes__max': 35}, {'question': 5, 'votes__min': 14, 'votes__max': 200}]>"
      ]
     },
     "execution_count": 106,
     "metadata": {},
     "output_type": "execute_result"
    }
   ],
   "source": [
    "result = Choice.objects.values('question').annotate(Min('votes'), Max('votes'))\n",
    "result\n",
    "## group별 결과를 dictionary에 담아서 QuerySet으로 묶어 반환."
   ]
  },
  {
   "cell_type": "markdown",
   "metadata": {},
   "source": [
    "# JOIN \n",
    "- 자식테이블 기준으로 부모테이블 조회"
   ]
  },
  {
   "cell_type": "code",
   "execution_count": 3,
   "metadata": {},
   "outputs": [
    {
     "data": {
      "text/plain": [
       "<Choice: 1. 빨강색>"
      ]
     },
     "execution_count": 3,
     "metadata": {},
     "output_type": "execute_result"
    }
   ],
   "source": [
    "# 부모테이블: Question, 자식테이블: Choice\n",
    "c1 = Choice.objects.get(pk=1)\n",
    "c1"
   ]
  },
  {
   "cell_type": "code",
   "execution_count": 4,
   "metadata": {},
   "outputs": [
    {
     "name": "stdout",
     "output_type": "stream",
     "text": [
      "1 0 빨강색\n",
      "1. 좋아하는 색은 무엇입니까? <class 'polls.models.Question'> 1\n",
      "좋아하는 색은 무엇입니까?\n"
     ]
    }
   ],
   "source": [
    "print(c1.pk, c1.votes, c1.choice_text)\n",
    "print(c1.question, type(c1.question), c1.question_id)\n",
    "print(c1.question.question_text)"
   ]
  },
  {
   "cell_type": "code",
   "execution_count": 115,
   "metadata": {},
   "outputs": [
    {
     "name": "stdout",
     "output_type": "stream",
     "text": [
      "빨강색 좋아하는 색은 무엇입니까?\n",
      "파랑색 좋아하는 색은 무엇입니까?\n",
      "빨강색 싫어하는 색은 무엇입니까?\n",
      "검정색 좋아하는 색은 무엇입니까?\n",
      "초록색 좋아하는 색은 무엇입니까?\n",
      "검정색 싫어하는 색은 무엇입니까?\n",
      "초록색 싫어하는 색은 무엇입니까?\n"
     ]
    }
   ],
   "source": [
    "result_list = Choice.objects.filter(choice_text__endswith='색')\n",
    "for result in result_list:\n",
    "    print(\n",
    "        result.choice_text, # 보기 텍스트\n",
    "        result.question.question_text  # 자식객체.ForeignKey필드 ->참조하는 부모데이터\n",
    "    )"
   ]
  },
  {
   "cell_type": "markdown",
   "metadata": {},
   "source": [
    "- **부모테이블 기준으로 자식테이블을 조회**\n",
    "    - 부모_model_instance.자식모델클래스이름_set : 자식 객체를 조회"
   ]
  },
  {
   "cell_type": "code",
   "execution_count": 3,
   "metadata": {},
   "outputs": [],
   "source": [
    "from polls.models import Question, Choice"
   ]
  },
  {
   "cell_type": "code",
   "execution_count": 4,
   "metadata": {},
   "outputs": [
    {
     "data": {
      "text/plain": [
       "<Question: 1. 좋아하는 색은 무엇입니까?>"
      ]
     },
     "execution_count": 4,
     "metadata": {},
     "output_type": "execute_result"
    }
   ],
   "source": [
    "q1 = Question.objects.get(pk=1)\n",
    "q1"
   ]
  },
  {
   "cell_type": "code",
   "execution_count": 5,
   "metadata": {},
   "outputs": [],
   "source": [
    "# q1.my_choice_set.all()"
   ]
  },
  {
   "cell_type": "code",
   "execution_count": 6,
   "metadata": {},
   "outputs": [
    {
     "data": {
      "text/plain": [
       "<QuerySet [<Choice: 1. 빨강색>, <Choice: 2. 파랑색>, <Choice: 4. 검정색>, <Choice: 5. 초록색>]>"
      ]
     },
     "execution_count": 6,
     "metadata": {},
     "output_type": "execute_result"
    }
   ],
   "source": [
    "q1.choice_set    \n",
    "q1.choice_set.all()\n",
    "#choice(Choice클래스스) -> q1을 참조하는 Choice의 행들을 조회할 수있는 manager를 반환 \n",
    "#                                                               ->RelateManager"
   ]
  },
  {
   "cell_type": "code",
   "execution_count": 5,
   "metadata": {},
   "outputs": [
    {
     "data": {
      "text/plain": [
       "<QuerySet [<Question: 1. 좋아하는 색은 무엇입니까?>, <Question: 2. 싫어하는 색은 무엇입니까?>, <Question: 3. 좋아하는 동물은 무엇인가요?>, <Question: 4. 싫어하는 동물은 무엇인가요?>, <Question: 5. 공부하고 싶은 프로그래밍 언어는 무엇입니까?>]>"
      ]
     },
     "execution_count": 5,
     "metadata": {},
     "output_type": "execute_result"
    }
   ],
   "source": [
    "Question.objects.all()"
   ]
  },
  {
   "cell_type": "code",
   "execution_count": 7,
   "metadata": {},
   "outputs": [
    {
     "name": "stdout",
     "output_type": "stream",
     "text": [
      "1. 좋아하는 색은 무엇입니까?\n",
      "\t1. 빨강색: 0\n",
      "\t2. 파랑색: 0\n",
      "\t3. 검정색: 20\n",
      "\t4. 초록색: 3\n",
      "2. 싫어하는 색은 무엇입니까?\n",
      "\t1. 빨강색: 0\n",
      "\t2. 검정색: 30\n",
      "\t3. 초록색: 10\n",
      "3. 좋아하는 동물은 무엇인가요?\n",
      "\t1. 호랑이: 100\n",
      "\t2. 사자: 20\n",
      "\t3. 개: 50\n",
      "\t4. 고양이: 20\n",
      "\t5. 코끼리: 11\n",
      "4. 싫어하는 동물은 무엇인가요?\n",
      "\t1. 뱀: 35\n",
      "\t2. 도마뱀: 5\n",
      "\t3. 하이에나: 17\n",
      "5. 공부하고 싶은 프로그래밍 언어는 무엇입니까?\n",
      "\t1. 파이썬: 200\n",
      "\t2. 자바: 50\n",
      "\t3. Javascript: 51\n",
      "\t4. C: 14\n"
     ]
    }
   ],
   "source": [
    "# 설문문제 - 보기\n",
    "question_list = Question.objects.all()\n",
    "for question in question_list:\n",
    "    print(f\"{question.pk}. {question.question_text}\")\n",
    "    for idx, choice in enumerate(question.choice_set.all()):\n",
    "        print(f\"\\t{idx+1}. {choice.choice_text}: {choice.votes}\")\n",
    "    "
   ]
  },
  {
   "cell_type": "markdown",
   "metadata": {},
   "source": [
    "# Insert/Update\n",
    "- model객체.save()"
   ]
  },
  {
   "cell_type": "code",
   "execution_count": 8,
   "metadata": {},
   "outputs": [
    {
     "name": "stdout",
     "output_type": "stream",
     "text": [
      "None\n"
     ]
    }
   ],
   "source": [
    "# insert\n",
    "new_question = Question(question_text=\"새질문입니다.\")\n",
    "new_question.save() # 저장되 있지 않은 pk의 instance를 save() -> insert"
   ]
  },
  {
   "cell_type": "code",
   "execution_count": 10,
   "metadata": {},
   "outputs": [
    {
     "name": "stdout",
     "output_type": "stream",
     "text": [
      "6\n",
      "2025-01-06 06:36:21.776599+00:00\n"
     ]
    }
   ],
   "source": [
    "print(new_question.pk) # insert 후에 자동등록된 값들(pk, pub_date)를 모델객체에 넣어준다.\n",
    "print(new_question.pub_date)"
   ]
  },
  {
   "cell_type": "code",
   "execution_count": null,
   "metadata": {},
   "outputs": [
    {
     "name": "stdout",
     "output_type": "stream",
     "text": [
      "6\n"
     ]
    }
   ],
   "source": [
    "# 조회\n",
    "q = Question.objects.get(pk=6)\n",
    "# update\n",
    "q.question_text = \"여행가고 싶은 곳이 어디인가요?\" #pk=6인 행의 값을 변경\n",
    "print(q.pk)\n",
    "q.save() # DB에 있는 pk 행의 값을 수정 -> update\n",
    "# save(): 반환값 : object-update시 pk값 | None - insert"
   ]
  },
  {
   "cell_type": "code",
   "execution_count": 14,
   "metadata": {},
   "outputs": [
    {
     "data": {
      "text/plain": [
       "<Question: 6. 여행가고 싶은 곳이 어디인가요?>"
      ]
     },
     "execution_count": 14,
     "metadata": {},
     "output_type": "execute_result"
    }
   ],
   "source": [
    "Question.objects.get(pk=6)"
   ]
  },
  {
   "cell_type": "code",
   "execution_count": 17,
   "metadata": {},
   "outputs": [
    {
     "data": {
      "text/plain": [
       "(1, {'polls.Question': 1})"
      ]
     },
     "execution_count": 17,
     "metadata": {},
     "output_type": "execute_result"
    }
   ],
   "source": [
    "# delete\n",
    "del_question = Question(pk=6) # 삭제할 primary key를 가진 객체를 생성.\n",
    "del_question.pk, del_question.question_text\n",
    "del_question.delete()"
   ]
  },
  {
   "cell_type": "code",
   "execution_count": 19,
   "metadata": {},
   "outputs": [
    {
     "data": {
      "text/plain": [
       "<QuerySet [<Question: 1. 좋아하는 색은 무엇입니까?>, <Question: 2. 싫어하는 색은 무엇입니까?>, <Question: 3. 좋아하는 동물은 무엇인가요?>, <Question: 4. 싫어하는 동물은 무엇인가요?>, <Question: 5. 공부하고 싶은 프로그래밍 언어는 무엇입니까?>]>"
      ]
     },
     "execution_count": 19,
     "metadata": {},
     "output_type": "execute_result"
    }
   ],
   "source": [
    "Question.objects.all()"
   ]
  },
  {
   "cell_type": "code",
   "execution_count": 22,
   "metadata": {},
   "outputs": [
    {
     "name": "stdout",
     "output_type": "stream",
     "text": [
      "19\n",
      "3\n"
     ]
    }
   ],
   "source": [
    "# ORM -> 조건에 데이터를 조회한 후에 삭제\n",
    "print(Choice.objects.all().count())  # QuerySet.count() 조회데이터수 (len(QuerySet)과 동일)\n",
    "print(Choice.objects.filter(votes__gt=50).count())\n",
    "                        "
   ]
  },
  {
   "cell_type": "code",
   "execution_count": 25,
   "metadata": {},
   "outputs": [
    {
     "name": "stdout",
     "output_type": "stream",
     "text": [
      "8 100\n",
      "15 200\n",
      "17 51\n"
     ]
    }
   ],
   "source": [
    "# choice에서 votes가 50 이상인 행들을 삭제\n",
    "##  delete from choice where votes >= 50\n",
    "del_list = Choice.objects.filter(votes__gt=50)\n",
    "for del_obj in del_list:\n",
    "    print(del_obj.pk, del_obj.votes)\n",
    "    del_obj.delete()"
   ]
  },
  {
   "cell_type": "code",
   "execution_count": 26,
   "metadata": {},
   "outputs": [
    {
     "name": "stdout",
     "output_type": "stream",
     "text": [
      "16\n"
     ]
    }
   ],
   "source": [
    "print(Choice.objects.all().count()) "
   ]
  }
 ],
 "metadata": {
  "kernelspec": {
   "display_name": "django",
   "language": "python",
   "name": "python3"
  },
  "language_info": {
   "codemirror_mode": {
    "name": "ipython",
    "version": 3
   },
   "file_extension": ".py",
   "mimetype": "text/x-python",
   "name": "python",
   "nbconvert_exporter": "python",
   "pygments_lexer": "ipython3",
   "version": "3.12.8"
  }
 },
 "nbformat": 4,
 "nbformat_minor": 2
}
